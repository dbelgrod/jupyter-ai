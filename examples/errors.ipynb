{
 "cells": [
  {
   "cell_type": "code",
   "execution_count": 1,
   "id": "297a793f-099d-45f3-b64e-10fd70cace49",
   "metadata": {
    "tags": []
   },
   "outputs": [],
   "source": [
    "%reload_ext jupyter_ai"
   ]
  },
  {
   "cell_type": "code",
   "execution_count": 2,
   "id": "01d054df-6fed-4c53-9fd1-27e5e09d64f9",
   "metadata": {
    "tags": []
   },
   "outputs": [
    {
     "data": {
      "text/plain": [
       "1.0"
      ]
     },
     "execution_count": 2,
     "metadata": {},
     "output_type": "execute_result"
    }
   ],
   "source": [
    "2/2"
   ]
  },
  {
   "cell_type": "code",
   "execution_count": 3,
   "id": "1d28e4d2-1677-4a3a-b489-94c95d7233ec",
   "metadata": {
    "tags": []
   },
   "outputs": [
    {
     "ename": "ZeroDivisionError",
     "evalue": "division by zero",
     "output_type": "error",
     "traceback": [
      "\u001b[0;31m---------------------------------------------------------------------------\u001b[0m",
      "\u001b[0;31mZeroDivisionError\u001b[0m                         Traceback (most recent call last)",
      "Cell \u001b[0;32mIn[3], line 1\u001b[0m\n\u001b[0;32m----> 1\u001b[0m \u001b[38;5;241;43m2\u001b[39;49m\u001b[38;5;241;43m/\u001b[39;49m\u001b[38;5;241;43m0\u001b[39;49m\n",
      "\u001b[0;31mZeroDivisionError\u001b[0m: division by zero"
     ]
    }
   ],
   "source": [
    "2/0"
   ]
  },
  {
   "cell_type": "code",
   "execution_count": 4,
   "id": "d184cff2-e70b-4b14-8dca-119cd36d6cff",
   "metadata": {
    "tags": []
   },
   "outputs": [
    {
     "name": "stdout",
     "output_type": "stream",
     "text": [
      "---------------------------------------------------------------------------\n",
      "ZeroDivisionError                         Traceback (most recent call last)\n",
      "Cell In[3], line 1\n",
      "----> 1 2/0\n",
      "\n",
      "ZeroDivisionError: division by zero\n"
     ]
    }
   ],
   "source": [
    "print(Err[3])"
   ]
  },
  {
   "cell_type": "code",
   "execution_count": 5,
   "id": "267decf3-9a23-4ca1-a2fa-b472c0e911c8",
   "metadata": {
    "tags": []
   },
   "outputs": [
    {
     "data": {
      "text/markdown": [
       "```\n",
       "---------------------------------------------------------------------------\n",
       "ZeroDivisionError                         Traceback (most recent call last)\n",
       "Cell In[3], line 1\n",
       "----> 1 2/0\n",
       "\n",
       "ZeroDivisionError: division by zero\n",
       "```\n",
       "\n",
       "This error message indicates that there is an attempt to divide a number by zero, which results in a ZeroDivisionError. In this specific case, the expression `2/0` is causing the error."
      ],
      "text/plain": [
       "<IPython.core.display.Markdown object>"
      ]
     },
     "execution_count": 5,
     "metadata": {},
     "output_type": "execute_result"
    }
   ],
   "source": [
    "%%ai chatgpt\n",
    "Explain the following Python error:\n",
    "    {Err[3]}"
   ]
  },
  {
   "cell_type": "code",
   "execution_count": 6,
   "id": "6c1420e5-adc7-433d-9bf7-be2dd84b2877",
   "metadata": {},
   "outputs": [
    {
     "ename": "SyntaxError",
     "evalue": "Missing parentheses in call to 'print'. Did you mean print(...)? (1142230402.py, line 1)",
     "output_type": "error",
     "traceback": [
      "\u001b[0;36m  Cell \u001b[0;32mIn[6], line 1\u001b[0;36m\u001b[0m\n\u001b[0;31m    print 'foo'\u001b[0m\n\u001b[0m    ^\u001b[0m\n\u001b[0;31mSyntaxError\u001b[0m\u001b[0;31m:\u001b[0m Missing parentheses in call to 'print'. Did you mean print(...)?\n"
     ]
    }
   ],
   "source": [
    "print 'foo'"
   ]
  },
  {
   "cell_type": "code",
   "execution_count": 7,
   "id": "76ee2adb-afe9-4f65-95b3-9757ec1909dc",
   "metadata": {
    "tags": []
   },
   "outputs": [
    {
     "name": "stdout",
     "output_type": "stream",
     "text": [
      "  Cell In[6], line 1\n",
      "    print 'foo'\n",
      "    ^\n",
      "SyntaxError: Missing parentheses in call to 'print'. Did you mean print(...)?\n",
      "\n"
     ]
    }
   ],
   "source": [
    "print(Err[6])"
   ]
  },
  {
   "cell_type": "code",
   "execution_count": 8,
   "id": "8548d2b2-f79f-4b33-8338-3819a37ba856",
   "metadata": {
    "tags": []
   },
   "outputs": [
    {
     "data": {
      "text/markdown": [
       "```\n",
       "Cell In[6], line 1\n",
       "    print 'foo'\n",
       "          ^\n",
       "SyntaxError: Missing parentheses in call to 'print'. Did you mean print(...)?\n",
       "```\n",
       "\n",
       "This error message indicates that there is a syntax error in the code due to a missing parentheses in a `print` statement. Starting in Python 3, `print` is a function and requires parentheses around its arguments. The error suggests adding parentheses to fix the issue."
      ],
      "text/plain": [
       "<IPython.core.display.Markdown object>"
      ]
     },
     "execution_count": 8,
     "metadata": {},
     "output_type": "execute_result"
    }
   ],
   "source": [
    "%%ai chatgpt\n",
    "Explain the following Python error:\n",
    "    {Err[6]}"
   ]
  },
  {
   "cell_type": "code",
   "execution_count": null,
   "id": "f32009ae-c7d5-4649-aa13-852e193ec604",
   "metadata": {},
   "outputs": [],
   "source": []
  }
 ],
 "metadata": {
  "kernelspec": {
   "display_name": "Python 3 (ipykernel)",
   "language": "python",
   "name": "python3"
  },
  "language_info": {
   "codemirror_mode": {
    "name": "ipython",
    "version": 3
   },
   "file_extension": ".py",
   "mimetype": "text/x-python",
   "name": "python",
   "nbconvert_exporter": "python",
   "pygments_lexer": "ipython3",
   "version": "3.10.9"
  }
 },
 "nbformat": 4,
 "nbformat_minor": 5
}
